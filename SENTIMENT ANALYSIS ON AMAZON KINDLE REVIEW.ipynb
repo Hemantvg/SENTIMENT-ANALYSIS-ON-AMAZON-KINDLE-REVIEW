{
 "cells": [
  {
   "cell_type": "code",
   "execution_count": 1,
   "id": "a2f36c58",
   "metadata": {},
   "outputs": [],
   "source": [
    "import numpy as np\n",
    "import pandas as pd\n",
    "import matplotlib.pyplot as plt\n",
    "import seaborn as sns"
   ]
  },
  {
   "cell_type": "code",
   "execution_count": 2,
   "id": "ce1bfc49",
   "metadata": {},
   "outputs": [],
   "source": [
    "df=pd.read_csv(r\"C:\\Users\\MSI\\Downloads\\archive\\kindle_reviews.csv\")"
   ]
  },
  {
   "cell_type": "code",
   "execution_count": 3,
   "id": "dd720c3d",
   "metadata": {},
   "outputs": [
    {
     "data": {
      "text/plain": [
       "(982619, 10)"
      ]
     },
     "execution_count": 3,
     "metadata": {},
     "output_type": "execute_result"
    }
   ],
   "source": [
    "df.shape"
   ]
  },
  {
   "cell_type": "code",
   "execution_count": 4,
   "id": "41c667fd",
   "metadata": {},
   "outputs": [
    {
     "data": {
      "text/html": [
       "<div>\n",
       "<style scoped>\n",
       "    .dataframe tbody tr th:only-of-type {\n",
       "        vertical-align: middle;\n",
       "    }\n",
       "\n",
       "    .dataframe tbody tr th {\n",
       "        vertical-align: top;\n",
       "    }\n",
       "\n",
       "    .dataframe thead th {\n",
       "        text-align: right;\n",
       "    }\n",
       "</style>\n",
       "<table border=\"1\" class=\"dataframe\">\n",
       "  <thead>\n",
       "    <tr style=\"text-align: right;\">\n",
       "      <th></th>\n",
       "      <th>Unnamed: 0</th>\n",
       "      <th>asin</th>\n",
       "      <th>helpful</th>\n",
       "      <th>overall</th>\n",
       "      <th>reviewText</th>\n",
       "      <th>reviewTime</th>\n",
       "      <th>reviewerID</th>\n",
       "      <th>reviewerName</th>\n",
       "      <th>summary</th>\n",
       "      <th>unixReviewTime</th>\n",
       "    </tr>\n",
       "  </thead>\n",
       "  <tbody>\n",
       "    <tr>\n",
       "      <th>0</th>\n",
       "      <td>0</td>\n",
       "      <td>B000F83SZQ</td>\n",
       "      <td>[0, 0]</td>\n",
       "      <td>5</td>\n",
       "      <td>I enjoy vintage books and movies so I enjoyed ...</td>\n",
       "      <td>05 5, 2014</td>\n",
       "      <td>A1F6404F1VG29J</td>\n",
       "      <td>Avidreader</td>\n",
       "      <td>Nice vintage story</td>\n",
       "      <td>1399248000</td>\n",
       "    </tr>\n",
       "    <tr>\n",
       "      <th>1</th>\n",
       "      <td>1</td>\n",
       "      <td>B000F83SZQ</td>\n",
       "      <td>[2, 2]</td>\n",
       "      <td>4</td>\n",
       "      <td>This book is a reissue of an old one; the auth...</td>\n",
       "      <td>01 6, 2014</td>\n",
       "      <td>AN0N05A9LIJEQ</td>\n",
       "      <td>critters</td>\n",
       "      <td>Different...</td>\n",
       "      <td>1388966400</td>\n",
       "    </tr>\n",
       "    <tr>\n",
       "      <th>2</th>\n",
       "      <td>2</td>\n",
       "      <td>B000F83SZQ</td>\n",
       "      <td>[2, 2]</td>\n",
       "      <td>4</td>\n",
       "      <td>This was a fairly interesting read.  It had ol...</td>\n",
       "      <td>04 4, 2014</td>\n",
       "      <td>A795DMNCJILA6</td>\n",
       "      <td>dot</td>\n",
       "      <td>Oldie</td>\n",
       "      <td>1396569600</td>\n",
       "    </tr>\n",
       "    <tr>\n",
       "      <th>3</th>\n",
       "      <td>3</td>\n",
       "      <td>B000F83SZQ</td>\n",
       "      <td>[1, 1]</td>\n",
       "      <td>5</td>\n",
       "      <td>I'd never read any of the Amy Brewster mysteri...</td>\n",
       "      <td>02 19, 2014</td>\n",
       "      <td>A1FV0SX13TWVXQ</td>\n",
       "      <td>Elaine H. Turley \"Montana Songbird\"</td>\n",
       "      <td>I really liked it.</td>\n",
       "      <td>1392768000</td>\n",
       "    </tr>\n",
       "    <tr>\n",
       "      <th>4</th>\n",
       "      <td>4</td>\n",
       "      <td>B000F83SZQ</td>\n",
       "      <td>[0, 1]</td>\n",
       "      <td>4</td>\n",
       "      <td>If you like period pieces - clothing, lingo, y...</td>\n",
       "      <td>03 19, 2014</td>\n",
       "      <td>A3SPTOKDG7WBLN</td>\n",
       "      <td>Father Dowling Fan</td>\n",
       "      <td>Period Mystery</td>\n",
       "      <td>1395187200</td>\n",
       "    </tr>\n",
       "  </tbody>\n",
       "</table>\n",
       "</div>"
      ],
      "text/plain": [
       "   Unnamed: 0        asin helpful  overall  \\\n",
       "0           0  B000F83SZQ  [0, 0]        5   \n",
       "1           1  B000F83SZQ  [2, 2]        4   \n",
       "2           2  B000F83SZQ  [2, 2]        4   \n",
       "3           3  B000F83SZQ  [1, 1]        5   \n",
       "4           4  B000F83SZQ  [0, 1]        4   \n",
       "\n",
       "                                          reviewText   reviewTime  \\\n",
       "0  I enjoy vintage books and movies so I enjoyed ...   05 5, 2014   \n",
       "1  This book is a reissue of an old one; the auth...   01 6, 2014   \n",
       "2  This was a fairly interesting read.  It had ol...   04 4, 2014   \n",
       "3  I'd never read any of the Amy Brewster mysteri...  02 19, 2014   \n",
       "4  If you like period pieces - clothing, lingo, y...  03 19, 2014   \n",
       "\n",
       "       reviewerID                         reviewerName             summary  \\\n",
       "0  A1F6404F1VG29J                           Avidreader  Nice vintage story   \n",
       "1   AN0N05A9LIJEQ                             critters        Different...   \n",
       "2   A795DMNCJILA6                                  dot               Oldie   \n",
       "3  A1FV0SX13TWVXQ  Elaine H. Turley \"Montana Songbird\"  I really liked it.   \n",
       "4  A3SPTOKDG7WBLN                   Father Dowling Fan      Period Mystery   \n",
       "\n",
       "   unixReviewTime  \n",
       "0      1399248000  \n",
       "1      1388966400  \n",
       "2      1396569600  \n",
       "3      1392768000  \n",
       "4      1395187200  "
      ]
     },
     "execution_count": 4,
     "metadata": {},
     "output_type": "execute_result"
    }
   ],
   "source": [
    "df.head()"
   ]
  },
  {
   "cell_type": "code",
   "execution_count": 5,
   "id": "8521d91e",
   "metadata": {},
   "outputs": [
    {
     "data": {
      "text/html": [
       "<div>\n",
       "<style scoped>\n",
       "    .dataframe tbody tr th:only-of-type {\n",
       "        vertical-align: middle;\n",
       "    }\n",
       "\n",
       "    .dataframe tbody tr th {\n",
       "        vertical-align: top;\n",
       "    }\n",
       "\n",
       "    .dataframe thead th {\n",
       "        text-align: right;\n",
       "    }\n",
       "</style>\n",
       "<table border=\"1\" class=\"dataframe\">\n",
       "  <thead>\n",
       "    <tr style=\"text-align: right;\">\n",
       "      <th></th>\n",
       "      <th>Unnamed: 0</th>\n",
       "      <th>asin</th>\n",
       "      <th>helpful</th>\n",
       "      <th>overall</th>\n",
       "      <th>reviewText</th>\n",
       "      <th>reviewTime</th>\n",
       "      <th>reviewerID</th>\n",
       "      <th>reviewerName</th>\n",
       "      <th>summary</th>\n",
       "      <th>unixReviewTime</th>\n",
       "    </tr>\n",
       "  </thead>\n",
       "  <tbody>\n",
       "    <tr>\n",
       "      <th>982614</th>\n",
       "      <td>982614</td>\n",
       "      <td>B00M13FNSS</td>\n",
       "      <td>[2, 2]</td>\n",
       "      <td>5</td>\n",
       "      <td>Yasss hunny! This is a great read. That Dre is...</td>\n",
       "      <td>07 23, 2014</td>\n",
       "      <td>A2Y66HD4J5S7QZ</td>\n",
       "      <td>Candi</td>\n",
       "      <td>A Hot Read Indeed!!</td>\n",
       "      <td>1406073600</td>\n",
       "    </tr>\n",
       "    <tr>\n",
       "      <th>982615</th>\n",
       "      <td>982615</td>\n",
       "      <td>B00M13FNSS</td>\n",
       "      <td>[0, 0]</td>\n",
       "      <td>5</td>\n",
       "      <td>I ENJOYED THIS BOOK FROM BEGINNING TO END NOW ...</td>\n",
       "      <td>07 23, 2014</td>\n",
       "      <td>A17YHECC8H9NEY</td>\n",
       "      <td>Margie</td>\n",
       "      <td>VERY GOOD BOOK</td>\n",
       "      <td>1406073600</td>\n",
       "    </tr>\n",
       "    <tr>\n",
       "      <th>982616</th>\n",
       "      <td>982616</td>\n",
       "      <td>B00M13FNSS</td>\n",
       "      <td>[1, 1]</td>\n",
       "      <td>5</td>\n",
       "      <td>Great book! Cherika was a fool. She let that m...</td>\n",
       "      <td>07 23, 2014</td>\n",
       "      <td>A20KO0BPMNREJL</td>\n",
       "      <td>Nicki</td>\n",
       "      <td>Great Read</td>\n",
       "      <td>1406073600</td>\n",
       "    </tr>\n",
       "    <tr>\n",
       "      <th>982617</th>\n",
       "      <td>982617</td>\n",
       "      <td>B00M13FNSS</td>\n",
       "      <td>[0, 0]</td>\n",
       "      <td>5</td>\n",
       "      <td>When I say this was an excellent book please b...</td>\n",
       "      <td>07 23, 2014</td>\n",
       "      <td>A1BQO66R6OLCCW</td>\n",
       "      <td>Nikey</td>\n",
       "      <td>Wow!!</td>\n",
       "      <td>1406073600</td>\n",
       "    </tr>\n",
       "    <tr>\n",
       "      <th>982618</th>\n",
       "      <td>982618</td>\n",
       "      <td>B00M13FNSS</td>\n",
       "      <td>[2, 2]</td>\n",
       "      <td>5</td>\n",
       "      <td>This book was everything. I just hope Alexus w...</td>\n",
       "      <td>07 23, 2014</td>\n",
       "      <td>A2NRGE3CSFY2TQ</td>\n",
       "      <td>Yo</td>\n",
       "      <td>Great read.hands down #5star hit</td>\n",
       "      <td>1406073600</td>\n",
       "    </tr>\n",
       "  </tbody>\n",
       "</table>\n",
       "</div>"
      ],
      "text/plain": [
       "        Unnamed: 0        asin helpful  overall  \\\n",
       "982614      982614  B00M13FNSS  [2, 2]        5   \n",
       "982615      982615  B00M13FNSS  [0, 0]        5   \n",
       "982616      982616  B00M13FNSS  [1, 1]        5   \n",
       "982617      982617  B00M13FNSS  [0, 0]        5   \n",
       "982618      982618  B00M13FNSS  [2, 2]        5   \n",
       "\n",
       "                                               reviewText   reviewTime  \\\n",
       "982614  Yasss hunny! This is a great read. That Dre is...  07 23, 2014   \n",
       "982615  I ENJOYED THIS BOOK FROM BEGINNING TO END NOW ...  07 23, 2014   \n",
       "982616  Great book! Cherika was a fool. She let that m...  07 23, 2014   \n",
       "982617  When I say this was an excellent book please b...  07 23, 2014   \n",
       "982618  This book was everything. I just hope Alexus w...  07 23, 2014   \n",
       "\n",
       "            reviewerID reviewerName                           summary  \\\n",
       "982614  A2Y66HD4J5S7QZ        Candi               A Hot Read Indeed!!   \n",
       "982615  A17YHECC8H9NEY       Margie                    VERY GOOD BOOK   \n",
       "982616  A20KO0BPMNREJL        Nicki                        Great Read   \n",
       "982617  A1BQO66R6OLCCW        Nikey                             Wow!!   \n",
       "982618  A2NRGE3CSFY2TQ           Yo  Great read.hands down #5star hit   \n",
       "\n",
       "        unixReviewTime  \n",
       "982614      1406073600  \n",
       "982615      1406073600  \n",
       "982616      1406073600  \n",
       "982617      1406073600  \n",
       "982618      1406073600  "
      ]
     },
     "execution_count": 5,
     "metadata": {},
     "output_type": "execute_result"
    }
   ],
   "source": [
    "df.tail()"
   ]
  },
  {
   "cell_type": "code",
   "execution_count": 6,
   "id": "4caf3ab6",
   "metadata": {},
   "outputs": [
    {
     "name": "stdout",
     "output_type": "stream",
     "text": [
      "<class 'pandas.core.frame.DataFrame'>\n",
      "RangeIndex: 982619 entries, 0 to 982618\n",
      "Data columns (total 10 columns):\n",
      " #   Column          Non-Null Count   Dtype \n",
      "---  ------          --------------   ----- \n",
      " 0   Unnamed: 0      982619 non-null  int64 \n",
      " 1   asin            982619 non-null  object\n",
      " 2   helpful         982619 non-null  object\n",
      " 3   overall         982619 non-null  int64 \n",
      " 4   reviewText      982597 non-null  object\n",
      " 5   reviewTime      982619 non-null  object\n",
      " 6   reviewerID      982619 non-null  object\n",
      " 7   reviewerName    978803 non-null  object\n",
      " 8   summary         982618 non-null  object\n",
      " 9   unixReviewTime  982619 non-null  int64 \n",
      "dtypes: int64(3), object(7)\n",
      "memory usage: 75.0+ MB\n"
     ]
    }
   ],
   "source": [
    "df.info()"
   ]
  },
  {
   "cell_type": "code",
   "execution_count": 7,
   "id": "b17c0dd1",
   "metadata": {},
   "outputs": [
    {
     "data": {
      "text/plain": [
       "Unnamed: 0           0\n",
       "asin                 0\n",
       "helpful              0\n",
       "overall              0\n",
       "reviewText          22\n",
       "reviewTime           0\n",
       "reviewerID           0\n",
       "reviewerName      3816\n",
       "summary              1\n",
       "unixReviewTime       0\n",
       "dtype: int64"
      ]
     },
     "execution_count": 7,
     "metadata": {},
     "output_type": "execute_result"
    }
   ],
   "source": [
    "df.isnull().sum()"
   ]
  },
  {
   "cell_type": "code",
   "execution_count": 8,
   "id": "4eafc100",
   "metadata": {},
   "outputs": [],
   "source": [
    "#Extra unnammed columns present in it\n",
    "df.drop(df.columns[0], axis = 1, inplace = True)"
   ]
  },
  {
   "cell_type": "code",
   "execution_count": 9,
   "id": "a5439e44",
   "metadata": {},
   "outputs": [],
   "source": [
    "#No reviews present in it so dropping the rows\n",
    "df.dropna(subset = ['reviewText'], inplace = True)"
   ]
  },
  {
   "cell_type": "code",
   "execution_count": 10,
   "id": "3b44e61a",
   "metadata": {},
   "outputs": [
    {
     "data": {
      "text/html": [
       "<div>\n",
       "<style scoped>\n",
       "    .dataframe tbody tr th:only-of-type {\n",
       "        vertical-align: middle;\n",
       "    }\n",
       "\n",
       "    .dataframe tbody tr th {\n",
       "        vertical-align: top;\n",
       "    }\n",
       "\n",
       "    .dataframe thead th {\n",
       "        text-align: right;\n",
       "    }\n",
       "</style>\n",
       "<table border=\"1\" class=\"dataframe\">\n",
       "  <thead>\n",
       "    <tr style=\"text-align: right;\">\n",
       "      <th></th>\n",
       "      <th>asin</th>\n",
       "      <th>helpful</th>\n",
       "      <th>overall</th>\n",
       "      <th>reviewText</th>\n",
       "      <th>reviewTime</th>\n",
       "      <th>reviewerID</th>\n",
       "      <th>reviewerName</th>\n",
       "      <th>summary</th>\n",
       "      <th>unixReviewTime</th>\n",
       "      <th>Year</th>\n",
       "    </tr>\n",
       "  </thead>\n",
       "  <tbody>\n",
       "    <tr>\n",
       "      <th>0</th>\n",
       "      <td>B000F83SZQ</td>\n",
       "      <td>[0, 0]</td>\n",
       "      <td>5</td>\n",
       "      <td>I enjoy vintage books and movies so I enjoyed ...</td>\n",
       "      <td>2014-05-05</td>\n",
       "      <td>A1F6404F1VG29J</td>\n",
       "      <td>Avidreader</td>\n",
       "      <td>Nice vintage story</td>\n",
       "      <td>1399248000</td>\n",
       "      <td>2014</td>\n",
       "    </tr>\n",
       "    <tr>\n",
       "      <th>1</th>\n",
       "      <td>B000F83SZQ</td>\n",
       "      <td>[2, 2]</td>\n",
       "      <td>4</td>\n",
       "      <td>This book is a reissue of an old one; the auth...</td>\n",
       "      <td>2014-01-06</td>\n",
       "      <td>AN0N05A9LIJEQ</td>\n",
       "      <td>critters</td>\n",
       "      <td>Different...</td>\n",
       "      <td>1388966400</td>\n",
       "      <td>2014</td>\n",
       "    </tr>\n",
       "    <tr>\n",
       "      <th>2</th>\n",
       "      <td>B000F83SZQ</td>\n",
       "      <td>[2, 2]</td>\n",
       "      <td>4</td>\n",
       "      <td>This was a fairly interesting read.  It had ol...</td>\n",
       "      <td>2014-04-04</td>\n",
       "      <td>A795DMNCJILA6</td>\n",
       "      <td>dot</td>\n",
       "      <td>Oldie</td>\n",
       "      <td>1396569600</td>\n",
       "      <td>2014</td>\n",
       "    </tr>\n",
       "    <tr>\n",
       "      <th>3</th>\n",
       "      <td>B000F83SZQ</td>\n",
       "      <td>[1, 1]</td>\n",
       "      <td>5</td>\n",
       "      <td>I'd never read any of the Amy Brewster mysteri...</td>\n",
       "      <td>2014-02-19</td>\n",
       "      <td>A1FV0SX13TWVXQ</td>\n",
       "      <td>Elaine H. Turley \"Montana Songbird\"</td>\n",
       "      <td>I really liked it.</td>\n",
       "      <td>1392768000</td>\n",
       "      <td>2014</td>\n",
       "    </tr>\n",
       "    <tr>\n",
       "      <th>4</th>\n",
       "      <td>B000F83SZQ</td>\n",
       "      <td>[0, 1]</td>\n",
       "      <td>4</td>\n",
       "      <td>If you like period pieces - clothing, lingo, y...</td>\n",
       "      <td>2014-03-19</td>\n",
       "      <td>A3SPTOKDG7WBLN</td>\n",
       "      <td>Father Dowling Fan</td>\n",
       "      <td>Period Mystery</td>\n",
       "      <td>1395187200</td>\n",
       "      <td>2014</td>\n",
       "    </tr>\n",
       "  </tbody>\n",
       "</table>\n",
       "</div>"
      ],
      "text/plain": [
       "         asin helpful  overall  \\\n",
       "0  B000F83SZQ  [0, 0]        5   \n",
       "1  B000F83SZQ  [2, 2]        4   \n",
       "2  B000F83SZQ  [2, 2]        4   \n",
       "3  B000F83SZQ  [1, 1]        5   \n",
       "4  B000F83SZQ  [0, 1]        4   \n",
       "\n",
       "                                          reviewText reviewTime  \\\n",
       "0  I enjoy vintage books and movies so I enjoyed ... 2014-05-05   \n",
       "1  This book is a reissue of an old one; the auth... 2014-01-06   \n",
       "2  This was a fairly interesting read.  It had ol... 2014-04-04   \n",
       "3  I'd never read any of the Amy Brewster mysteri... 2014-02-19   \n",
       "4  If you like period pieces - clothing, lingo, y... 2014-03-19   \n",
       "\n",
       "       reviewerID                         reviewerName             summary  \\\n",
       "0  A1F6404F1VG29J                           Avidreader  Nice vintage story   \n",
       "1   AN0N05A9LIJEQ                             critters        Different...   \n",
       "2   A795DMNCJILA6                                  dot               Oldie   \n",
       "3  A1FV0SX13TWVXQ  Elaine H. Turley \"Montana Songbird\"  I really liked it.   \n",
       "4  A3SPTOKDG7WBLN                   Father Dowling Fan      Period Mystery   \n",
       "\n",
       "   unixReviewTime  Year  \n",
       "0      1399248000  2014  \n",
       "1      1388966400  2014  \n",
       "2      1396569600  2014  \n",
       "3      1392768000  2014  \n",
       "4      1395187200  2014  "
      ]
     },
     "execution_count": 10,
     "metadata": {},
     "output_type": "execute_result"
    }
   ],
   "source": [
    "#Performing column with year\n",
    "df.reviewTime = pd.to_datetime(df.reviewTime)\n",
    "\n",
    "#creating a column with just the year\n",
    "df['Year'] = df.reviewTime.dt.year\n",
    "df.head()"
   ]
  },
  {
   "cell_type": "code",
   "execution_count": 11,
   "id": "27bbf718",
   "metadata": {},
   "outputs": [
    {
     "data": {
      "text/html": [
       "<div>\n",
       "<style scoped>\n",
       "    .dataframe tbody tr th:only-of-type {\n",
       "        vertical-align: middle;\n",
       "    }\n",
       "\n",
       "    .dataframe tbody tr th {\n",
       "        vertical-align: top;\n",
       "    }\n",
       "\n",
       "    .dataframe thead th {\n",
       "        text-align: right;\n",
       "    }\n",
       "</style>\n",
       "<table border=\"1\" class=\"dataframe\">\n",
       "  <thead>\n",
       "    <tr style=\"text-align: right;\">\n",
       "      <th></th>\n",
       "      <th>overall</th>\n",
       "      <th>unixReviewTime</th>\n",
       "      <th>Year</th>\n",
       "    </tr>\n",
       "  </thead>\n",
       "  <tbody>\n",
       "    <tr>\n",
       "      <th>count</th>\n",
       "      <td>982597.000000</td>\n",
       "      <td>9.825970e+05</td>\n",
       "      <td>982597.000000</td>\n",
       "    </tr>\n",
       "    <tr>\n",
       "      <th>mean</th>\n",
       "      <td>4.347792</td>\n",
       "      <td>1.378183e+09</td>\n",
       "      <td>2013.225596</td>\n",
       "    </tr>\n",
       "    <tr>\n",
       "      <th>std</th>\n",
       "      <td>0.955061</td>\n",
       "      <td>2.298471e+07</td>\n",
       "      <td>0.808576</td>\n",
       "    </tr>\n",
       "    <tr>\n",
       "      <th>min</th>\n",
       "      <td>1.000000</td>\n",
       "      <td>9.522144e+08</td>\n",
       "      <td>2000.000000</td>\n",
       "    </tr>\n",
       "    <tr>\n",
       "      <th>25%</th>\n",
       "      <td>4.000000</td>\n",
       "      <td>1.365206e+09</td>\n",
       "      <td>2013.000000</td>\n",
       "    </tr>\n",
       "    <tr>\n",
       "      <th>50%</th>\n",
       "      <td>5.000000</td>\n",
       "      <td>1.383523e+09</td>\n",
       "      <td>2013.000000</td>\n",
       "    </tr>\n",
       "    <tr>\n",
       "      <th>75%</th>\n",
       "      <td>5.000000</td>\n",
       "      <td>1.396051e+09</td>\n",
       "      <td>2014.000000</td>\n",
       "    </tr>\n",
       "    <tr>\n",
       "      <th>max</th>\n",
       "      <td>5.000000</td>\n",
       "      <td>1.406074e+09</td>\n",
       "      <td>2014.000000</td>\n",
       "    </tr>\n",
       "  </tbody>\n",
       "</table>\n",
       "</div>"
      ],
      "text/plain": [
       "             overall  unixReviewTime           Year\n",
       "count  982597.000000    9.825970e+05  982597.000000\n",
       "mean        4.347792    1.378183e+09    2013.225596\n",
       "std         0.955061    2.298471e+07       0.808576\n",
       "min         1.000000    9.522144e+08    2000.000000\n",
       "25%         4.000000    1.365206e+09    2013.000000\n",
       "50%         5.000000    1.383523e+09    2013.000000\n",
       "75%         5.000000    1.396051e+09    2014.000000\n",
       "max         5.000000    1.406074e+09    2014.000000"
      ]
     },
     "execution_count": 11,
     "metadata": {},
     "output_type": "execute_result"
    }
   ],
   "source": [
    "#Statistical Describe\n",
    "df.describe()"
   ]
  },
  {
   "cell_type": "code",
   "execution_count": 12,
   "id": "7d3eae4b",
   "metadata": {},
   "outputs": [
    {
     "name": "stdout",
     "output_type": "stream",
     "text": [
      "No of unique values in feature 'asin' is : 61934\n",
      "No of unique values in feature 'helpful' is : 1494\n",
      "No of unique values in feature 'overall' is : 5\n",
      "No of unique values in feature 'reviewText' is : 982267\n",
      "No of unique values in feature 'reviewTime' is : 2117\n",
      "No of unique values in feature 'reviewerID' is : 68223\n",
      "No of unique values in feature 'reviewerName' is : 55477\n",
      "No of unique values in feature 'summary' is : 623225\n",
      "No of unique values in feature 'unixReviewTime' is : 2117\n",
      "No of unique values in feature 'Year' is : 15\n"
     ]
    }
   ],
   "source": [
    "#Finding Number of unique Values from the data\n",
    "columns = [df.columns]\n",
    "for col in df:\n",
    "    print(\"No of unique values in feature '{}' is : {}\".format(col, df[col].nunique()))"
   ]
  },
  {
   "cell_type": "code",
   "execution_count": 13,
   "id": "346519d3",
   "metadata": {},
   "outputs": [
    {
     "data": {
      "text/plain": [
       "5    575246\n",
       "4    254010\n",
       "3     96193\n",
       "2     34130\n",
       "1     23018\n",
       "Name: overall, dtype: int64"
      ]
     },
     "execution_count": 13,
     "metadata": {},
     "output_type": "execute_result"
    }
   ],
   "source": [
    "#overall counts of ratings.\n",
    "df.overall.value_counts()"
   ]
  },
  {
   "cell_type": "code",
   "execution_count": 14,
   "id": "d9f5b736",
   "metadata": {},
   "outputs": [
    {
     "data": {
      "image/png": "[encoded data removed]",
      "text/plain": [
       "<Figure size 640x480 with 1 Axes>"
      ]
     },
     "metadata": {},
     "output_type": "display_data"
    }
   ],
   "source": [
    "#plotting a graph between ratings\n",
    "df.overall.value_counts().plot(kind = 'bar')\n",
    "plt.title('Number of Good Ratings vs Bad Ratings')\n",
    "plt.xlabel('Rating Scales')\n",
    "plt.xticks(rotation = 0)\n",
    "plt.ylabel('Total ratings')\n",
    "plt.show()"
   ]
  },
  {
   "cell_type": "code",
   "execution_count": 15,
   "id": "bb9ee36d",
   "metadata": {},
   "outputs": [
    {
     "data": {
      "image/png": "[encoded data removed]",
      "text/plain": [
       "<Figure size 640x480 with 1 Axes>"
      ]
     },
     "metadata": {},
     "output_type": "display_data"
    }
   ],
   "source": [
    "#plotting the bar graph betweeen no of reviews in year\n",
    "df.Year.value_counts().sort_index().plot(kind = 'bar')\n",
    "plt.title('Number of Reviews per Year')\n",
    "plt.xlabel('Year')\n",
    "plt.ylabel('Number of Reviews')\n",
    "plt.show()"
   ]
  },
  {
   "cell_type": "code",
   "execution_count": 16,
   "id": "cee81c62",
   "metadata": {},
   "outputs": [
    {
     "data": {
      "image/png": "[encoded data removed]",
      "text/plain": [
       "<Figure size 640x480 with 1 Axes>"
      ]
     },
     "metadata": {},
     "output_type": "display_data"
    }
   ],
   "source": [
    "#plotting graph between top 10 users with more no of reviews\n",
    "df.reviewerID.value_counts().head(10).plot(kind = 'bar')\n",
    "plt.xticks(rotation = 80)\n",
    "plt.xlabel('UserID')\n",
    "plt.ylabel('Number of Reviews')\n",
    "plt.show()"
   ]
  },
  {
   "cell_type": "code",
   "execution_count": 17,
   "id": "bb349d4c",
   "metadata": {},
   "outputs": [
    {
     "data": {
      "text/plain": [
       "5    575246\n",
       "4    254010\n",
       "3     96193\n",
       "2     34130\n",
       "1     23018\n",
       "Name: overall, dtype: int64"
      ]
     },
     "execution_count": 17,
     "metadata": {},
     "output_type": "execute_result"
    }
   ],
   "source": [
    "#overall counts of ratings.\n",
    "df.overall.value_counts()"
   ]
  },
  {
   "cell_type": "code",
   "execution_count": 18,
   "id": "be320130",
   "metadata": {},
   "outputs": [
    {
     "data": {
      "text/html": [
       "<div>\n",
       "<style scoped>\n",
       "    .dataframe tbody tr th:only-of-type {\n",
       "        vertical-align: middle;\n",
       "    }\n",
       "\n",
       "    .dataframe tbody tr th {\n",
       "        vertical-align: top;\n",
       "    }\n",
       "\n",
       "    .dataframe thead th {\n",
       "        text-align: right;\n",
       "    }\n",
       "</style>\n",
       "<table border=\"1\" class=\"dataframe\">\n",
       "  <thead>\n",
       "    <tr style=\"text-align: right;\">\n",
       "      <th></th>\n",
       "      <th>asin</th>\n",
       "      <th>helpful</th>\n",
       "      <th>overall</th>\n",
       "      <th>reviewText</th>\n",
       "      <th>reviewTime</th>\n",
       "      <th>reviewerID</th>\n",
       "      <th>reviewerName</th>\n",
       "      <th>summary</th>\n",
       "      <th>unixReviewTime</th>\n",
       "      <th>Year</th>\n",
       "    </tr>\n",
       "  </thead>\n",
       "  <tbody>\n",
       "    <tr>\n",
       "      <th>0</th>\n",
       "      <td>B000F83SZQ</td>\n",
       "      <td>[0, 0]</td>\n",
       "      <td>1</td>\n",
       "      <td>I enjoy vintage books and movies so I enjoyed ...</td>\n",
       "      <td>2014-05-05</td>\n",
       "      <td>A1F6404F1VG29J</td>\n",
       "      <td>Avidreader</td>\n",
       "      <td>Nice vintage story</td>\n",
       "      <td>1399248000</td>\n",
       "      <td>2014</td>\n",
       "    </tr>\n",
       "    <tr>\n",
       "      <th>1</th>\n",
       "      <td>B000F83SZQ</td>\n",
       "      <td>[2, 2]</td>\n",
       "      <td>1</td>\n",
       "      <td>This book is a reissue of an old one; the auth...</td>\n",
       "      <td>2014-01-06</td>\n",
       "      <td>AN0N05A9LIJEQ</td>\n",
       "      <td>critters</td>\n",
       "      <td>Different...</td>\n",
       "      <td>1388966400</td>\n",
       "      <td>2014</td>\n",
       "    </tr>\n",
       "    <tr>\n",
       "      <th>2</th>\n",
       "      <td>B000F83SZQ</td>\n",
       "      <td>[2, 2]</td>\n",
       "      <td>1</td>\n",
       "      <td>This was a fairly interesting read.  It had ol...</td>\n",
       "      <td>2014-04-04</td>\n",
       "      <td>A795DMNCJILA6</td>\n",
       "      <td>dot</td>\n",
       "      <td>Oldie</td>\n",
       "      <td>1396569600</td>\n",
       "      <td>2014</td>\n",
       "    </tr>\n",
       "    <tr>\n",
       "      <th>3</th>\n",
       "      <td>B000F83SZQ</td>\n",
       "      <td>[1, 1]</td>\n",
       "      <td>1</td>\n",
       "      <td>I'd never read any of the Amy Brewster mysteri...</td>\n",
       "      <td>2014-02-19</td>\n",
       "      <td>A1FV0SX13TWVXQ</td>\n",
       "      <td>Elaine H. Turley \"Montana Songbird\"</td>\n",
       "      <td>I really liked it.</td>\n",
       "      <td>1392768000</td>\n",
       "      <td>2014</td>\n",
       "    </tr>\n",
       "    <tr>\n",
       "      <th>4</th>\n",
       "      <td>B000F83SZQ</td>\n",
       "      <td>[0, 1]</td>\n",
       "      <td>1</td>\n",
       "      <td>If you like period pieces - clothing, lingo, y...</td>\n",
       "      <td>2014-03-19</td>\n",
       "      <td>A3SPTOKDG7WBLN</td>\n",
       "      <td>Father Dowling Fan</td>\n",
       "      <td>Period Mystery</td>\n",
       "      <td>1395187200</td>\n",
       "      <td>2014</td>\n",
       "    </tr>\n",
       "  </tbody>\n",
       "</table>\n",
       "</div>"
      ],
      "text/plain": [
       "         asin helpful  overall  \\\n",
       "0  B000F83SZQ  [0, 0]        1   \n",
       "1  B000F83SZQ  [2, 2]        1   \n",
       "2  B000F83SZQ  [2, 2]        1   \n",
       "3  B000F83SZQ  [1, 1]        1   \n",
       "4  B000F83SZQ  [0, 1]        1   \n",
       "\n",
       "                                          reviewText reviewTime  \\\n",
       "0  I enjoy vintage books and movies so I enjoyed ... 2014-05-05   \n",
       "1  This book is a reissue of an old one; the auth... 2014-01-06   \n",
       "2  This was a fairly interesting read.  It had ol... 2014-04-04   \n",
       "3  I'd never read any of the Amy Brewster mysteri... 2014-02-19   \n",
       "4  If you like period pieces - clothing, lingo, y... 2014-03-19   \n",
       "\n",
       "       reviewerID                         reviewerName             summary  \\\n",
       "0  A1F6404F1VG29J                           Avidreader  Nice vintage story   \n",
       "1   AN0N05A9LIJEQ                             critters        Different...   \n",
       "2   A795DMNCJILA6                                  dot               Oldie   \n",
       "3  A1FV0SX13TWVXQ  Elaine H. Turley \"Montana Songbird\"  I really liked it.   \n",
       "4  A3SPTOKDG7WBLN                   Father Dowling Fan      Period Mystery   \n",
       "\n",
       "   unixReviewTime  Year  \n",
       "0      1399248000  2014  \n",
       "1      1388966400  2014  \n",
       "2      1396569600  2014  \n",
       "3      1392768000  2014  \n",
       "4      1395187200  2014  "
      ]
     },
     "execution_count": 18,
     "metadata": {},
     "output_type": "execute_result"
    }
   ],
   "source": [
    "#changing the ratings into 0 and 1 for finding the positive and negative reviews\n",
    "df.overall = np.where((df.overall <3), 0, df.overall)\n",
    "df.overall = np.where((df.overall >3), 1, df.overall)\n",
    "df.head()"
   ]
  },
  {
   "cell_type": "code",
   "execution_count": 19,
   "id": "57d7bfb3",
   "metadata": {},
   "outputs": [
    {
     "data": {
      "text/html": [
       "<div>\n",
       "<style scoped>\n",
       "    .dataframe tbody tr th:only-of-type {\n",
       "        vertical-align: middle;\n",
       "    }\n",
       "\n",
       "    .dataframe tbody tr th {\n",
       "        vertical-align: top;\n",
       "    }\n",
       "\n",
       "    .dataframe thead th {\n",
       "        text-align: right;\n",
       "    }\n",
       "</style>\n",
       "<table border=\"1\" class=\"dataframe\">\n",
       "  <thead>\n",
       "    <tr style=\"text-align: right;\">\n",
       "      <th></th>\n",
       "      <th>reviewText</th>\n",
       "      <th>overall</th>\n",
       "    </tr>\n",
       "  </thead>\n",
       "  <tbody>\n",
       "    <tr>\n",
       "      <th>0</th>\n",
       "      <td>I enjoy vintage books and movies so I enjoyed ...</td>\n",
       "      <td>1</td>\n",
       "    </tr>\n",
       "    <tr>\n",
       "      <th>1</th>\n",
       "      <td>This book is a reissue of an old one; the auth...</td>\n",
       "      <td>1</td>\n",
       "    </tr>\n",
       "    <tr>\n",
       "      <th>2</th>\n",
       "      <td>This was a fairly interesting read.  It had ol...</td>\n",
       "      <td>1</td>\n",
       "    </tr>\n",
       "    <tr>\n",
       "      <th>3</th>\n",
       "      <td>I'd never read any of the Amy Brewster mysteri...</td>\n",
       "      <td>1</td>\n",
       "    </tr>\n",
       "    <tr>\n",
       "      <th>4</th>\n",
       "      <td>If you like period pieces - clothing, lingo, y...</td>\n",
       "      <td>1</td>\n",
       "    </tr>\n",
       "  </tbody>\n",
       "</table>\n",
       "</div>"
      ],
      "text/plain": [
       "                                          reviewText  overall\n",
       "0  I enjoy vintage books and movies so I enjoyed ...        1\n",
       "1  This book is a reissue of an old one; the auth...        1\n",
       "2  This was a fairly interesting read.  It had ol...        1\n",
       "3  I'd never read any of the Amy Brewster mysteri...        1\n",
       "4  If you like period pieces - clothing, lingo, y...        1"
      ]
     },
     "execution_count": 19,
     "metadata": {},
     "output_type": "execute_result"
    }
   ],
   "source": [
    "#adding a feature review to the dataframe\n",
    "reviews = df[['reviewText', 'overall']]\n",
    "reviews.head()"
   ]
  },
  {
   "cell_type": "code",
   "execution_count": 20,
   "id": "b536a339",
   "metadata": {},
   "outputs": [],
   "source": [
    "#Spliting the dataset into train and test\n",
    "from sklearn.model_selection import train_test_split\n",
    "train,test=train_test_split(df, test_size=0.3)"
   ]
  },
  {
   "cell_type": "code",
   "execution_count": 21,
   "id": "3a0953c3",
   "metadata": {},
   "outputs": [
    {
     "name": "stdout",
     "output_type": "stream",
     "text": [
      "(687817, 10)\n",
      "(294780, 10)\n"
     ]
    }
   ],
   "source": [
    "print(train.shape)\n",
    "print(test.shape)"
   ]
  },
  {
   "cell_type": "code",
   "execution_count": 22,
   "id": "d783f750",
   "metadata": {},
   "outputs": [
    {
     "name": "stderr",
     "output_type": "stream",
     "text": [
      "[nltk_data] Error loading wordnet: <urlopen error [Errno 11001]\n",
      "[nltk_data]     getaddrinfo failed>\n",
      "[nltk_data] Error loading stopwords: <urlopen error [Errno 11001]\n",
      "[nltk_data]     getaddrinfo failed>\n",
      "[nltk_data] Error loading punkt: <urlopen error [Errno 11001]\n",
      "[nltk_data]     getaddrinfo failed>\n"
     ]
    }
   ],
   "source": [
    "#DATA CLEANING\n",
    "import nltk\n",
    "nltk.download('wordnet')\n",
    "nltk.download('stopwords')\n",
    "nltk.download('punkt')\n",
    "from nltk.corpus import stopwords\n",
    "STOPWORDS = set(stopwords.words('english'))\n",
    "from nltk.tokenize import word_tokenize\n",
    "import re"
   ]
  },
  {
   "cell_type": "code",
   "execution_count": 23,
   "id": "5dbd1563",
   "metadata": {},
   "outputs": [
    {
     "name": "stdout",
     "output_type": "stream",
     "text": [
      "Original Text: This book is a reissue of an old one; the author was born in 1910. It's of the era of, say, Nero Wolfe. The introduction was quite interesting, explaining who the author was and why he's been forgotten; I'd never heard of him.The language is a little dated at times, like calling a gun a &#34;heater.&#34;  I also made good use of my Fire's dictionary to look up words like &#34;deshabille&#34; and &#34;Canarsie.&#34; Still, it was well worth a look-see.\n",
      "\n",
      "\n"
     ]
    }
   ],
   "source": [
    "#Text-Preprocessing\n",
    "#printing the original text present in the review data\n",
    "print('Original Text: ' + str(reviews['reviewText'][1]))\n",
    "print('\\n')"
   ]
  },
  {
   "cell_type": "code",
   "execution_count": 24,
   "id": "ec0b9325",
   "metadata": {},
   "outputs": [
    {
     "name": "stdout",
     "output_type": "stream",
     "text": [
      "Alphabetical Words: This book is a reissue of an old the author was born in of the era Nero The introduction was quite explaining who the author was and why been never heard of language is a little dated at like calling a gun a I also made good use of my dictionary to look up words like and it was well worth a\n",
      "\n",
      "\n"
     ]
    },
    {
     "name": "stderr",
     "output_type": "stream",
     "text": [
      "C:\\Users\\MSI\\AppData\\Local\\Temp\\ipykernel_7164\\2590391276.py:1: SettingWithCopyWarning: \n",
      "A value is trying to be set on a copy of a slice from a DataFrame.\n",
      "Try using .loc[row_indexer,col_indexer] = value instead\n",
      "\n",
      "See the caveats in the documentation: https://pandas.pydata.org/pandas-docs/stable/user_guide/indexing.html#returning-a-view-versus-a-copy\n",
      "  reviews['reviewText'] = reviews['reviewText'].apply(lambda x: ' '.join(word for word in x.split() if word.isalpha()))\n"
     ]
    }
   ],
   "source": [
    "reviews['reviewText'] = reviews['reviewText'].apply(lambda x: ' '.join(word for word in x.split() if word.isalpha()))\n",
    "print('Alphabetical Words: '+ str(reviews['reviewText'][1]))\n",
    "print('\\n')"
   ]
  },
  {
   "cell_type": "code",
   "execution_count": 25,
   "id": "b7ec6a07",
   "metadata": {},
   "outputs": [
    {
     "name": "stdout",
     "output_type": "stream",
     "text": [
      "Stopwords Remove: This book reissue old author born era Nero The introduction quite explaining author never heard language little dated like calling gun I also made good use dictionary look words like well worth\n",
      "\n",
      "\n"
     ]
    },
    {
     "name": "stderr",
     "output_type": "stream",
     "text": [
      "C:\\Users\\MSI\\AppData\\Local\\Temp\\ipykernel_7164\\2715301776.py:3: SettingWithCopyWarning: \n",
      "A value is trying to be set on a copy of a slice from a DataFrame.\n",
      "Try using .loc[row_indexer,col_indexer] = value instead\n",
      "\n",
      "See the caveats in the documentation: https://pandas.pydata.org/pandas-docs/stable/user_guide/indexing.html#returning-a-view-versus-a-copy\n",
      "  reviews['reviewText'] = reviews['reviewText'].apply(lambda x : ' '.join(word for word in x.split() if word not in stop))\n"
     ]
    }
   ],
   "source": [
    "stop = stopwords.words('english')\n",
    "#removing the stop words\n",
    "reviews['reviewText'] = reviews['reviewText'].apply(lambda x : ' '.join(word for word in x.split() if word not in stop))\n",
    "print('Stopwords Remove: ' + str(reviews['reviewText'][1]))\n",
    "print('\\n')"
   ]
  },
  {
   "cell_type": "code",
   "execution_count": 26,
   "id": "06758bdc",
   "metadata": {},
   "outputs": [
    {
     "name": "stdout",
     "output_type": "stream",
     "text": [
      "Requirement already satisfied: inflect in c:\\users\\msi\\anaconda3\\lib\\site-packages (6.0.2)\n",
      "Requirement already satisfied: pydantic>=1.9.1 in c:\\users\\msi\\anaconda3\\lib\\site-packages (from inflect) (1.10.2)\n",
      "Requirement already satisfied: typing-extensions>=4.1.0 in c:\\users\\msi\\anaconda3\\lib\\site-packages (from pydantic>=1.9.1->inflect) (4.3.0)\n"
     ]
    }
   ],
   "source": [
    "!pip3 install inflect"
   ]
  },
  {
   "cell_type": "code",
   "execution_count": 27,
   "id": "f88fb2e9",
   "metadata": {},
   "outputs": [
    {
     "name": "stdout",
     "output_type": "stream",
     "text": [
      "showing info https://raw.githubusercontent.com/nltk/nltk_data/gh-pages/index.xml\n"
     ]
    },
    {
     "data": {
      "text/plain": [
       "True"
      ]
     },
     "execution_count": 27,
     "metadata": {},
     "output_type": "execute_result"
    }
   ],
   "source": [
    "import nltk\n",
    "nltk.download()"
   ]
  },
  {
   "cell_type": "code",
   "execution_count": 28,
   "id": "6b993ad2",
   "metadata": {},
   "outputs": [],
   "source": [
    "import string\n",
    "from nltk.corpus import stopwords\n",
    "from nltk.stem import WordNetLemmatizer\n",
    "from sklearn.feature_extraction.text import CountVectorizer\n",
    "from sklearn.feature_extraction.text import TfidfVectorizer"
   ]
  },
  {
   "cell_type": "code",
   "execution_count": 29,
   "id": "af1c2572",
   "metadata": {},
   "outputs": [
    {
     "name": "stdout",
     "output_type": "stream",
     "text": [
      "Lemmatized Text: This book reissue old author bear era Nero The introduction quite explain author never hear language little date like call gun I also make good use dictionary look word like well worth\n"
     ]
    },
    {
     "name": "stderr",
     "output_type": "stream",
     "text": [
      "C:\\Users\\MSI\\AppData\\Local\\Temp\\ipykernel_7164\\2104824194.py:2: SettingWithCopyWarning: \n",
      "A value is trying to be set on a copy of a slice from a DataFrame.\n",
      "Try using .loc[row_indexer,col_indexer] = value instead\n",
      "\n",
      "See the caveats in the documentation: https://pandas.pydata.org/pandas-docs/stable/user_guide/indexing.html#returning-a-view-versus-a-copy\n",
      "  reviews['reviewText'] = reviews['reviewText'].apply(lambda x : ' '.join(lem.lemmatize(word, pos = 'v') for word in x.split()))\n"
     ]
    }
   ],
   "source": [
    "lem = WordNetLemmatizer()\n",
    "reviews['reviewText'] = reviews['reviewText'].apply(lambda x : ' '.join(lem.lemmatize(word, pos = 'v') for word in x.split()))\n",
    "print('Lemmatized Text: ' + str(reviews['reviewText'][1]))"
   ]
  },
  {
   "cell_type": "code",
   "execution_count": 30,
   "id": "48dc39ba",
   "metadata": {},
   "outputs": [
    {
     "data": {
      "text/html": [
       "<div>\n",
       "<style scoped>\n",
       "    .dataframe tbody tr th:only-of-type {\n",
       "        vertical-align: middle;\n",
       "    }\n",
       "\n",
       "    .dataframe tbody tr th {\n",
       "        vertical-align: top;\n",
       "    }\n",
       "\n",
       "    .dataframe thead th {\n",
       "        text-align: right;\n",
       "    }\n",
       "</style>\n",
       "<table border=\"1\" class=\"dataframe\">\n",
       "  <thead>\n",
       "    <tr style=\"text-align: right;\">\n",
       "      <th></th>\n",
       "      <th>asin</th>\n",
       "      <th>helpful</th>\n",
       "      <th>overall</th>\n",
       "      <th>reviewText</th>\n",
       "      <th>reviewTime</th>\n",
       "      <th>reviewerID</th>\n",
       "      <th>reviewerName</th>\n",
       "      <th>summary</th>\n",
       "      <th>unixReviewTime</th>\n",
       "      <th>Year</th>\n",
       "    </tr>\n",
       "  </thead>\n",
       "  <tbody>\n",
       "    <tr>\n",
       "      <th>130999</th>\n",
       "      <td>B0063M2E4O</td>\n",
       "      <td>[0, 0]</td>\n",
       "      <td>1</td>\n",
       "      <td>I really do like the characters in this series...</td>\n",
       "      <td>2013-05-17</td>\n",
       "      <td>AELYPHV5KI2EV</td>\n",
       "      <td>Sandra Cox \"Crafty Lady\"</td>\n",
       "      <td>Another good read.</td>\n",
       "      <td>1368748800</td>\n",
       "      <td>2013</td>\n",
       "    </tr>\n",
       "    <tr>\n",
       "      <th>237872</th>\n",
       "      <td>B0087VGXVO</td>\n",
       "      <td>[0, 0]</td>\n",
       "      <td>1</td>\n",
       "      <td>This book brings snow white &amp; hunts man  in a ...</td>\n",
       "      <td>2013-03-12</td>\n",
       "      <td>A10088912WTVKNKMB5N1E</td>\n",
       "      <td>Tyra Allen</td>\n",
       "      <td>Loved it</td>\n",
       "      <td>1363046400</td>\n",
       "      <td>2013</td>\n",
       "    </tr>\n",
       "    <tr>\n",
       "      <th>263769</th>\n",
       "      <td>B008M2I0WI</td>\n",
       "      <td>[1, 1]</td>\n",
       "      <td>1</td>\n",
       "      <td>I'm pretty close to giving this a full five. T...</td>\n",
       "      <td>2013-02-28</td>\n",
       "      <td>A214SASPKRUU3X</td>\n",
       "      <td>commeca</td>\n",
       "      <td>A Very Dense and Intelligently Written Read</td>\n",
       "      <td>1362009600</td>\n",
       "      <td>2013</td>\n",
       "    </tr>\n",
       "    <tr>\n",
       "      <th>908307</th>\n",
       "      <td>B00JWET9SO</td>\n",
       "      <td>[0, 0]</td>\n",
       "      <td>1</td>\n",
       "      <td>I genuinely and thoroughly enjoyed reading thi...</td>\n",
       "      <td>2014-04-25</td>\n",
       "      <td>AC4S7JUWTD3BY</td>\n",
       "      <td>C. R. Colombo</td>\n",
       "      <td>Thorough Enjoyed Reading!</td>\n",
       "      <td>1398384000</td>\n",
       "      <td>2014</td>\n",
       "    </tr>\n",
       "    <tr>\n",
       "      <th>89165</th>\n",
       "      <td>B005CKI3LQ</td>\n",
       "      <td>[1, 3]</td>\n",
       "      <td>1</td>\n",
       "      <td>I always go to the one and 2 star reviews firs...</td>\n",
       "      <td>2011-09-26</td>\n",
       "      <td>A1LCFYWAALMEGB</td>\n",
       "      <td>Nancy J. Oakes \"little bookworm\"</td>\n",
       "      <td>almost didn`t buy due to poor reviews</td>\n",
       "      <td>1316995200</td>\n",
       "      <td>2011</td>\n",
       "    </tr>\n",
       "  </tbody>\n",
       "</table>\n",
       "</div>"
      ],
      "text/plain": [
       "              asin helpful  overall  \\\n",
       "130999  B0063M2E4O  [0, 0]        1   \n",
       "237872  B0087VGXVO  [0, 0]        1   \n",
       "263769  B008M2I0WI  [1, 1]        1   \n",
       "908307  B00JWET9SO  [0, 0]        1   \n",
       "89165   B005CKI3LQ  [1, 3]        1   \n",
       "\n",
       "                                               reviewText reviewTime  \\\n",
       "130999  I really do like the characters in this series... 2013-05-17   \n",
       "237872  This book brings snow white & hunts man  in a ... 2013-03-12   \n",
       "263769  I'm pretty close to giving this a full five. T... 2013-02-28   \n",
       "908307  I genuinely and thoroughly enjoyed reading thi... 2014-04-25   \n",
       "89165   I always go to the one and 2 star reviews firs... 2011-09-26   \n",
       "\n",
       "                   reviewerID                      reviewerName  \\\n",
       "130999          AELYPHV5KI2EV          Sandra Cox \"Crafty Lady\"   \n",
       "237872  A10088912WTVKNKMB5N1E                        Tyra Allen   \n",
       "263769         A214SASPKRUU3X                           commeca   \n",
       "908307          AC4S7JUWTD3BY                     C. R. Colombo   \n",
       "89165          A1LCFYWAALMEGB  Nancy J. Oakes \"little bookworm\"   \n",
       "\n",
       "                                            summary  unixReviewTime  Year  \n",
       "130999                           Another good read.      1368748800  2013  \n",
       "237872                                     Loved it      1363046400  2013  \n",
       "263769  A Very Dense and Intelligently Written Read      1362009600  2013  \n",
       "908307                    Thorough Enjoyed Reading!      1398384000  2014  \n",
       "89165         almost didn`t buy due to poor reviews      1316995200  2011  "
      ]
     },
     "execution_count": 30,
     "metadata": {},
     "output_type": "execute_result"
    }
   ],
   "source": [
    "train.head()"
   ]
  },
  {
   "cell_type": "code",
   "execution_count": 31,
   "id": "5b17a63d",
   "metadata": {},
   "outputs": [
    {
     "data": {
      "text/html": [
       "<div>\n",
       "<style scoped>\n",
       "    .dataframe tbody tr th:only-of-type {\n",
       "        vertical-align: middle;\n",
       "    }\n",
       "\n",
       "    .dataframe tbody tr th {\n",
       "        vertical-align: top;\n",
       "    }\n",
       "\n",
       "    .dataframe thead th {\n",
       "        text-align: right;\n",
       "    }\n",
       "</style>\n",
       "<table border=\"1\" class=\"dataframe\">\n",
       "  <thead>\n",
       "    <tr style=\"text-align: right;\">\n",
       "      <th></th>\n",
       "      <th>asin</th>\n",
       "      <th>helpful</th>\n",
       "      <th>overall</th>\n",
       "      <th>reviewText</th>\n",
       "      <th>reviewTime</th>\n",
       "      <th>reviewerID</th>\n",
       "      <th>reviewerName</th>\n",
       "      <th>summary</th>\n",
       "      <th>unixReviewTime</th>\n",
       "      <th>Year</th>\n",
       "    </tr>\n",
       "  </thead>\n",
       "  <tbody>\n",
       "    <tr>\n",
       "      <th>246516</th>\n",
       "      <td>B008C9J2H8</td>\n",
       "      <td>[2, 2]</td>\n",
       "      <td>1</td>\n",
       "      <td>As a person suffering from type 2 diabetes, I ...</td>\n",
       "      <td>2012-07-06</td>\n",
       "      <td>A1JX4RMZRBMSNF</td>\n",
       "      <td>bh poty</td>\n",
       "      <td>Diabetes Explained</td>\n",
       "      <td>1341532800</td>\n",
       "      <td>2012</td>\n",
       "    </tr>\n",
       "    <tr>\n",
       "      <th>444525</th>\n",
       "      <td>B00BLNNS0Y</td>\n",
       "      <td>[2, 2]</td>\n",
       "      <td>1</td>\n",
       "      <td>I liked the suspense, and I liked that i had s...</td>\n",
       "      <td>2013-05-29</td>\n",
       "      <td>A1PM3VAKW0OQNO</td>\n",
       "      <td>Sherril Stubblefield</td>\n",
       "      <td>We kept our promise.</td>\n",
       "      <td>1369785600</td>\n",
       "      <td>2013</td>\n",
       "    </tr>\n",
       "    <tr>\n",
       "      <th>11315</th>\n",
       "      <td>B00332F4YE</td>\n",
       "      <td>[0, 0]</td>\n",
       "      <td>3</td>\n",
       "      <td>The story is interesting: a middle class, educ...</td>\n",
       "      <td>2012-09-01</td>\n",
       "      <td>AXYHN7EAAVIVV</td>\n",
       "      <td>Deeanna R. Franklin \"the bookster\"</td>\n",
       "      <td>Excellent story, Not the best execution, but p...</td>\n",
       "      <td>1346457600</td>\n",
       "      <td>2012</td>\n",
       "    </tr>\n",
       "    <tr>\n",
       "      <th>621273</th>\n",
       "      <td>B00EN7RZ4A</td>\n",
       "      <td>[0, 0]</td>\n",
       "      <td>1</td>\n",
       "      <td>This book was so good I couldn't put it down i...</td>\n",
       "      <td>2014-06-18</td>\n",
       "      <td>A1BQO66R6OLCCW</td>\n",
       "      <td>Nikey</td>\n",
       "      <td>Wow!!!</td>\n",
       "      <td>1403049600</td>\n",
       "      <td>2014</td>\n",
       "    </tr>\n",
       "    <tr>\n",
       "      <th>527602</th>\n",
       "      <td>B00CV2MGCK</td>\n",
       "      <td>[0, 0]</td>\n",
       "      <td>1</td>\n",
       "      <td>Ms Malone writes like a dream.  Sweet story, w...</td>\n",
       "      <td>2013-10-24</td>\n",
       "      <td>A244D3UR9B44S1</td>\n",
       "      <td>Imelda</td>\n",
       "      <td>lovely weekend in hahndorf!</td>\n",
       "      <td>1382572800</td>\n",
       "      <td>2013</td>\n",
       "    </tr>\n",
       "  </tbody>\n",
       "</table>\n",
       "</div>"
      ],
      "text/plain": [
       "              asin helpful  overall  \\\n",
       "246516  B008C9J2H8  [2, 2]        1   \n",
       "444525  B00BLNNS0Y  [2, 2]        1   \n",
       "11315   B00332F4YE  [0, 0]        3   \n",
       "621273  B00EN7RZ4A  [0, 0]        1   \n",
       "527602  B00CV2MGCK  [0, 0]        1   \n",
       "\n",
       "                                               reviewText reviewTime  \\\n",
       "246516  As a person suffering from type 2 diabetes, I ... 2012-07-06   \n",
       "444525  I liked the suspense, and I liked that i had s... 2013-05-29   \n",
       "11315   The story is interesting: a middle class, educ... 2012-09-01   \n",
       "621273  This book was so good I couldn't put it down i... 2014-06-18   \n",
       "527602  Ms Malone writes like a dream.  Sweet story, w... 2013-10-24   \n",
       "\n",
       "            reviewerID                        reviewerName  \\\n",
       "246516  A1JX4RMZRBMSNF                             bh poty   \n",
       "444525  A1PM3VAKW0OQNO                Sherril Stubblefield   \n",
       "11315    AXYHN7EAAVIVV  Deeanna R. Franklin \"the bookster\"   \n",
       "621273  A1BQO66R6OLCCW                               Nikey   \n",
       "527602  A244D3UR9B44S1                              Imelda   \n",
       "\n",
       "                                                  summary  unixReviewTime  \\\n",
       "246516                                 Diabetes Explained      1341532800   \n",
       "444525                               We kept our promise.      1369785600   \n",
       "11315   Excellent story, Not the best execution, but p...      1346457600   \n",
       "621273                                             Wow!!!      1403049600   \n",
       "527602                        lovely weekend in hahndorf!      1382572800   \n",
       "\n",
       "        Year  \n",
       "246516  2012  \n",
       "444525  2013  \n",
       "11315   2012  \n",
       "621273  2014  \n",
       "527602  2013  "
      ]
     },
     "execution_count": 31,
     "metadata": {},
     "output_type": "execute_result"
    }
   ],
   "source": [
    "test.head()"
   ]
  },
  {
   "cell_type": "code",
   "execution_count": 32,
   "id": "394042dc",
   "metadata": {},
   "outputs": [],
   "source": [
    "#Defining a Model\n",
    "\n",
    "y_train = train['overall']\n",
    "x_train = train\n",
    "x_train.drop('overall', axis=1, inplace=True)\n",
    "\n",
    "y_test = test['overall']\n",
    "x_test = test\n",
    "x_test.drop('overall', axis=1, inplace=True)"
   ]
  },
  {
   "cell_type": "code",
   "execution_count": 33,
   "id": "dc997c75",
   "metadata": {},
   "outputs": [],
   "source": [
    "#tokenization\n",
    "import tensorflow as tf\n",
    "from tensorflow.keras.preprocessing.text import Tokenizer\n",
    "tokenizer = Tokenizer(num_words=10000)\n",
    "tokenizer.fit_on_texts(x_train['reviewText'])\n",
    "\n",
    "x_train['text_tok'] = tokenizer.texts_to_sequences(x_train['reviewText'].values)\n",
    "x_test['text_tok'] = tokenizer.texts_to_sequences(x_test['reviewText'].values)"
   ]
  },
  {
   "cell_type": "code",
   "execution_count": 34,
   "id": "6d49544a",
   "metadata": {},
   "outputs": [
    {
     "data": {
      "text/html": [
       "<div>\n",
       "<style scoped>\n",
       "    .dataframe tbody tr th:only-of-type {\n",
       "        vertical-align: middle;\n",
       "    }\n",
       "\n",
       "    .dataframe tbody tr th {\n",
       "        vertical-align: top;\n",
       "    }\n",
       "\n",
       "    .dataframe thead th {\n",
       "        text-align: right;\n",
       "    }\n",
       "</style>\n",
       "<table border=\"1\" class=\"dataframe\">\n",
       "  <thead>\n",
       "    <tr style=\"text-align: right;\">\n",
       "      <th></th>\n",
       "      <th>asin</th>\n",
       "      <th>helpful</th>\n",
       "      <th>reviewText</th>\n",
       "      <th>reviewTime</th>\n",
       "      <th>reviewerID</th>\n",
       "      <th>reviewerName</th>\n",
       "      <th>summary</th>\n",
       "      <th>unixReviewTime</th>\n",
       "      <th>Year</th>\n",
       "      <th>text_tok</th>\n",
       "    </tr>\n",
       "  </thead>\n",
       "  <tbody>\n",
       "    <tr>\n",
       "      <th>130999</th>\n",
       "      <td>B0063M2E4O</td>\n",
       "      <td>[0, 0]</td>\n",
       "      <td>I really do like the characters in this series...</td>\n",
       "      <td>2013-05-17</td>\n",
       "      <td>AELYPHV5KI2EV</td>\n",
       "      <td>Sandra Cox \"Crafty Lady\"</td>\n",
       "      <td>Another good read.</td>\n",
       "      <td>1368748800</td>\n",
       "      <td>2013</td>\n",
       "      <td>[5, 49, 88, 45, 1, 51, 10, 8, 52, 1, 19, 282, ...</td>\n",
       "    </tr>\n",
       "    <tr>\n",
       "      <th>237872</th>\n",
       "      <td>B0087VGXVO</td>\n",
       "      <td>[0, 0]</td>\n",
       "      <td>This book brings snow white &amp; hunts man  in a ...</td>\n",
       "      <td>2013-03-12</td>\n",
       "      <td>A10088912WTVKNKMB5N1E</td>\n",
       "      <td>Tyra Allen</td>\n",
       "      <td>Loved it</td>\n",
       "      <td>1363046400</td>\n",
       "      <td>2013</td>\n",
       "      <td>[8, 12, 728, 2018, 1099, 9886, 160, 10, 4, 81,...</td>\n",
       "    </tr>\n",
       "    <tr>\n",
       "      <th>263769</th>\n",
       "      <td>B008M2I0WI</td>\n",
       "      <td>[1, 1]</td>\n",
       "      <td>I'm pretty close to giving this a full five. T...</td>\n",
       "      <td>2013-02-28</td>\n",
       "      <td>A214SASPKRUU3X</td>\n",
       "      <td>commeca</td>\n",
       "      <td>A Very Dense and Intelligently Written Read</td>\n",
       "      <td>1362009600</td>\n",
       "      <td>2013</td>\n",
       "      <td>[113, 308, 611, 3, 516, 8, 4, 265, 531, 1, 98,...</td>\n",
       "    </tr>\n",
       "    <tr>\n",
       "      <th>908307</th>\n",
       "      <td>B00JWET9SO</td>\n",
       "      <td>[0, 0]</td>\n",
       "      <td>I genuinely and thoroughly enjoyed reading thi...</td>\n",
       "      <td>2014-04-25</td>\n",
       "      <td>AC4S7JUWTD3BY</td>\n",
       "      <td>C. R. Colombo</td>\n",
       "      <td>Thorough Enjoyed Reading!</td>\n",
       "      <td>1398384000</td>\n",
       "      <td>2014</td>\n",
       "      <td>[5, 3779, 2, 730, 103, 72, 8, 12, 100, 4291, 4...</td>\n",
       "    </tr>\n",
       "    <tr>\n",
       "      <th>89165</th>\n",
       "      <td>B005CKI3LQ</td>\n",
       "      <td>[1, 3]</td>\n",
       "      <td>I always go to the one and 2 star reviews firs...</td>\n",
       "      <td>2011-09-26</td>\n",
       "      <td>A1LCFYWAALMEGB</td>\n",
       "      <td>Nancy J. Oakes \"little bookworm\"</td>\n",
       "      <td>almost didn`t buy due to poor reviews</td>\n",
       "      <td>1316995200</td>\n",
       "      <td>2011</td>\n",
       "      <td>[5, 176, 137, 3, 1, 30, 2, 231, 415, 503, 74, ...</td>\n",
       "    </tr>\n",
       "  </tbody>\n",
       "</table>\n",
       "</div>"
      ],
      "text/plain": [
       "              asin helpful                                         reviewText  \\\n",
       "130999  B0063M2E4O  [0, 0]  I really do like the characters in this series...   \n",
       "237872  B0087VGXVO  [0, 0]  This book brings snow white & hunts man  in a ...   \n",
       "263769  B008M2I0WI  [1, 1]  I'm pretty close to giving this a full five. T...   \n",
       "908307  B00JWET9SO  [0, 0]  I genuinely and thoroughly enjoyed reading thi...   \n",
       "89165   B005CKI3LQ  [1, 3]  I always go to the one and 2 star reviews firs...   \n",
       "\n",
       "       reviewTime             reviewerID                      reviewerName  \\\n",
       "130999 2013-05-17          AELYPHV5KI2EV          Sandra Cox \"Crafty Lady\"   \n",
       "237872 2013-03-12  A10088912WTVKNKMB5N1E                        Tyra Allen   \n",
       "263769 2013-02-28         A214SASPKRUU3X                           commeca   \n",
       "908307 2014-04-25          AC4S7JUWTD3BY                     C. R. Colombo   \n",
       "89165  2011-09-26         A1LCFYWAALMEGB  Nancy J. Oakes \"little bookworm\"   \n",
       "\n",
       "                                            summary  unixReviewTime  Year  \\\n",
       "130999                           Another good read.      1368748800  2013   \n",
       "237872                                     Loved it      1363046400  2013   \n",
       "263769  A Very Dense and Intelligently Written Read      1362009600  2013   \n",
       "908307                    Thorough Enjoyed Reading!      1398384000  2014   \n",
       "89165         almost didn`t buy due to poor reviews      1316995200  2011   \n",
       "\n",
       "                                                 text_tok  \n",
       "130999  [5, 49, 88, 45, 1, 51, 10, 8, 52, 1, 19, 282, ...  \n",
       "237872  [8, 12, 728, 2018, 1099, 9886, 160, 10, 4, 81,...  \n",
       "263769  [113, 308, 611, 3, 516, 8, 4, 265, 531, 1, 98,...  \n",
       "908307  [5, 3779, 2, 730, 103, 72, 8, 12, 100, 4291, 4...  \n",
       "89165   [5, 176, 137, 3, 1, 30, 2, 231, 415, 503, 74, ...  "
      ]
     },
     "execution_count": 34,
     "metadata": {},
     "output_type": "execute_result"
    }
   ],
   "source": [
    "x_train.head()"
   ]
  },
  {
   "cell_type": "code",
   "execution_count": 35,
   "id": "be67f63d",
   "metadata": {},
   "outputs": [],
   "source": [
    "#padding and truncating\n",
    "from tensorflow.keras.preprocessing import sequence\n",
    "max_review_length = 1500\n",
    "x_train_pad = sequence.pad_sequences(x_train['text_tok'].values, maxlen=max_review_length, padding='post')\n",
    "x_test_pad = sequence.pad_sequences(x_test['text_tok'].values, maxlen=max_review_length, padding='post')"
   ]
  },
  {
   "cell_type": "code",
   "execution_count": 36,
   "id": "76248bf6",
   "metadata": {},
   "outputs": [
    {
     "data": {
      "text/plain": [
       "array([[   5,   49,   88, ...,    0,    0,    0],\n",
       "       [   8,   12,  728, ...,    0,    0,    0],\n",
       "       [ 113,  308,  611, ...,    0,    0,    0],\n",
       "       ...,\n",
       "       [1224,   54, 2560, ...,    0,    0,    0],\n",
       "       [  55,  438,   55, ...,    0,    0,    0],\n",
       "       [1095, 1095, 1095, ...,    0,    0,    0]])"
      ]
     },
     "execution_count": 36,
     "metadata": {},
     "output_type": "execute_result"
    }
   ],
   "source": [
    "x_train_pad"
   ]
  },
  {
   "cell_type": "code",
   "execution_count": 37,
   "id": "91b2ee6f",
   "metadata": {},
   "outputs": [],
   "source": [
    "from keras import Sequential\n",
    "from keras.layers import Embedding, LSTM, Dense, Dropout"
   ]
  },
  {
   "cell_type": "code",
   "execution_count": 38,
   "id": "9fa11167",
   "metadata": {},
   "outputs": [],
   "source": [
    "embedding_size=32"
   ]
  },
  {
   "cell_type": "code",
   "execution_count": 39,
   "id": "08979b9b",
   "metadata": {},
   "outputs": [],
   "source": [
    "voc_size=982619"
   ]
  },
  {
   "cell_type": "code",
   "execution_count": 40,
   "id": "f98f28d7",
   "metadata": {},
   "outputs": [],
   "source": [
    "max_words=1500"
   ]
  },
  {
   "cell_type": "code",
   "execution_count": 41,
   "id": "d2db2b68",
   "metadata": {},
   "outputs": [],
   "source": [
    "model=Sequential()"
   ]
  },
  {
   "cell_type": "code",
   "execution_count": 42,
   "id": "ae11411a",
   "metadata": {},
   "outputs": [],
   "source": [
    "model.add(Embedding(voc_size, embedding_size, input_length=max_words))\n",
    "model.add(LSTM(100))\n",
    "model.add(Dense(64, activation='relu'))\n",
    "model.add(Dense(8, activation='relu'))\n",
    "model.add(Dense(1, activation='sigmoid'))"
   ]
  },
  {
   "cell_type": "code",
   "execution_count": 43,
   "id": "b4978742",
   "metadata": {},
   "outputs": [
    {
     "name": "stdout",
     "output_type": "stream",
     "text": [
      "Model: \"sequential\"\n",
      "_________________________________________________________________\n",
      " Layer (type)                Output Shape              Param #   \n",
      "=================================================================\n",
      " embedding (Embedding)       (None, 1500, 32)          31443808  \n",
      "                                                                 \n",
      " lstm (LSTM)                 (None, 100)               53200     \n",
      "                                                                 \n",
      " dense (Dense)               (None, 64)                6464      \n",
      "                                                                 \n",
      " dense_1 (Dense)             (None, 8)                 520       \n",
      "                                                                 \n",
      " dense_2 (Dense)             (None, 1)                 9         \n",
      "                                                                 \n",
      "=================================================================\n",
      "Total params: 31,504,001\n",
      "Trainable params: 31,504,001\n",
      "Non-trainable params: 0\n",
      "_________________________________________________________________\n",
      "None\n"
     ]
    }
   ],
   "source": [
    "#Printing the Model Summary.\n",
    "print(model.summary())"
   ]
  },
  {
   "cell_type": "code",
   "execution_count": 44,
   "id": "c500f6aa",
   "metadata": {},
   "outputs": [
    {
     "name": "stdout",
     "output_type": "stream",
     "text": [
      "<keras.layers.core.embedding.Embedding object at 0x0000023681CC6CA0>: (982619, 32)\n",
      "<keras.layers.rnn.lstm.LSTM object at 0x0000023681CC6850>: (32, 400)\n",
      "<keras.layers.rnn.lstm.LSTM object at 0x0000023681CC6850>: (100, 400)\n",
      "<keras.layers.rnn.lstm.LSTM object at 0x0000023681CC6850>: (400,)\n",
      "<keras.layers.core.dense.Dense object at 0x0000023681CBFA60>: (100, 64)\n",
      "<keras.layers.core.dense.Dense object at 0x0000023681CBFA60>: (64,)\n",
      "<keras.layers.core.dense.Dense object at 0x00000236E8F00580>: (64, 8)\n",
      "<keras.layers.core.dense.Dense object at 0x00000236E8F00580>: (8,)\n",
      "<keras.layers.core.dense.Dense object at 0x0000023741F9F550>: (8, 1)\n",
      "<keras.layers.core.dense.Dense object at 0x0000023741F9F550>: (1,)\n"
     ]
    }
   ],
   "source": [
    "for layer in model.layers:                             #here we are looping through each layer\n",
    "    for weight in layer.get_weights():                 #here we are looping through weight of each layer\n",
    "        print(f'{layer}: {weight.shape}')              #printing the weights of each layers."
   ]
  },
  {
   "cell_type": "code",
   "execution_count": 45,
   "id": "728ffc20",
   "metadata": {},
   "outputs": [
    {
     "data": {
      "text/plain": [
       "(982619, 32)"
      ]
     },
     "execution_count": 45,
     "metadata": {},
     "output_type": "execute_result"
    }
   ],
   "source": [
    "model.get_weights()[0].shape"
   ]
  },
  {
   "cell_type": "code",
   "execution_count": 46,
   "id": "d22e14f0",
   "metadata": {},
   "outputs": [
    {
     "data": {
      "text/plain": [
       "[<tf.Variable 'lstm/lstm_cell/kernel:0' shape=(32, 400) dtype=float32, numpy=\n",
       " array([[ 0.10364059,  0.08301147,  0.11164352, ...,  0.08133092,\n",
       "         -0.00899234, -0.00636035],\n",
       "        [-0.09775397, -0.03100906, -0.00584009, ...,  0.10289007,\n",
       "          0.05482499,  0.04563919],\n",
       "        [-0.04735443, -0.03261236, -0.06168742, ..., -0.02512691,\n",
       "         -0.06773841, -0.117069  ],\n",
       "        ...,\n",
       "        [-0.01435769, -0.00137958, -0.08350204, ...,  0.00486392,\n",
       "         -0.09734894, -0.07814908],\n",
       "        [-0.05922798,  0.05293386, -0.05566289, ...,  0.08999842,\n",
       "          0.10435281,  0.08580454],\n",
       "        [ 0.02116204,  0.03925791, -0.07772938, ...,  0.03853574,\n",
       "         -0.02422084, -0.00613492]], dtype=float32)>,\n",
       " <tf.Variable 'lstm/lstm_cell/recurrent_kernel:0' shape=(100, 400) dtype=float32, numpy=\n",
       " array([[-0.01320648, -0.03625793,  0.08291104, ...,  0.00743936,\n",
       "         -0.01335392,  0.00710453],\n",
       "        [ 0.02131545,  0.01044381,  0.02057317, ..., -0.01994889,\n",
       "         -0.04386005,  0.03450244],\n",
       "        [-0.05626044, -0.01699783,  0.02177608, ...,  0.02520908,\n",
       "         -0.03360088,  0.07860252],\n",
       "        ...,\n",
       "        [ 0.01019299,  0.06611589, -0.11934774, ...,  0.10061861,\n",
       "          0.03024521,  0.02377699],\n",
       "        [ 0.06974312, -0.00282324, -0.05678387, ..., -0.08067167,\n",
       "          0.02521392, -0.01526446],\n",
       "        [-0.02052326,  0.0176744 , -0.04867121, ...,  0.0323535 ,\n",
       "          0.02334358,  0.0127661 ]], dtype=float32)>,\n",
       " <tf.Variable 'lstm/lstm_cell/bias:0' shape=(400,) dtype=float32, numpy=\n",
       " array([0., 0., 0., 0., 0., 0., 0., 0., 0., 0., 0., 0., 0., 0., 0., 0., 0.,\n",
       "        0., 0., 0., 0., 0., 0., 0., 0., 0., 0., 0., 0., 0., 0., 0., 0., 0.,\n",
       "        0., 0., 0., 0., 0., 0., 0., 0., 0., 0., 0., 0., 0., 0., 0., 0., 0.,\n",
       "        0., 0., 0., 0., 0., 0., 0., 0., 0., 0., 0., 0., 0., 0., 0., 0., 0.,\n",
       "        0., 0., 0., 0., 0., 0., 0., 0., 0., 0., 0., 0., 0., 0., 0., 0., 0.,\n",
       "        0., 0., 0., 0., 0., 0., 0., 0., 0., 0., 0., 0., 0., 0., 0., 1., 1.,\n",
       "        1., 1., 1., 1., 1., 1., 1., 1., 1., 1., 1., 1., 1., 1., 1., 1., 1.,\n",
       "        1., 1., 1., 1., 1., 1., 1., 1., 1., 1., 1., 1., 1., 1., 1., 1., 1.,\n",
       "        1., 1., 1., 1., 1., 1., 1., 1., 1., 1., 1., 1., 1., 1., 1., 1., 1.,\n",
       "        1., 1., 1., 1., 1., 1., 1., 1., 1., 1., 1., 1., 1., 1., 1., 1., 1.,\n",
       "        1., 1., 1., 1., 1., 1., 1., 1., 1., 1., 1., 1., 1., 1., 1., 1., 1.,\n",
       "        1., 1., 1., 1., 1., 1., 1., 1., 1., 1., 1., 1., 1., 0., 0., 0., 0.,\n",
       "        0., 0., 0., 0., 0., 0., 0., 0., 0., 0., 0., 0., 0., 0., 0., 0., 0.,\n",
       "        0., 0., 0., 0., 0., 0., 0., 0., 0., 0., 0., 0., 0., 0., 0., 0., 0.,\n",
       "        0., 0., 0., 0., 0., 0., 0., 0., 0., 0., 0., 0., 0., 0., 0., 0., 0.,\n",
       "        0., 0., 0., 0., 0., 0., 0., 0., 0., 0., 0., 0., 0., 0., 0., 0., 0.,\n",
       "        0., 0., 0., 0., 0., 0., 0., 0., 0., 0., 0., 0., 0., 0., 0., 0., 0.,\n",
       "        0., 0., 0., 0., 0., 0., 0., 0., 0., 0., 0., 0., 0., 0., 0., 0., 0.,\n",
       "        0., 0., 0., 0., 0., 0., 0., 0., 0., 0., 0., 0., 0., 0., 0., 0., 0.,\n",
       "        0., 0., 0., 0., 0., 0., 0., 0., 0., 0., 0., 0., 0., 0., 0., 0., 0.,\n",
       "        0., 0., 0., 0., 0., 0., 0., 0., 0., 0., 0., 0., 0., 0., 0., 0., 0.,\n",
       "        0., 0., 0., 0., 0., 0., 0., 0., 0., 0., 0., 0., 0., 0., 0., 0., 0.,\n",
       "        0., 0., 0., 0., 0., 0., 0., 0., 0., 0., 0., 0., 0., 0., 0., 0., 0.,\n",
       "        0., 0., 0., 0., 0., 0., 0., 0., 0.], dtype=float32)>]"
      ]
     },
     "execution_count": 46,
     "metadata": {},
     "output_type": "execute_result"
    }
   ],
   "source": [
    "#printing the weights of layers\n",
    "model.layers[1].trainable_weights #kernel weight->input #recurrent weight -> hidden weights #bias -> weights"
   ]
  },
  {
   "cell_type": "code",
   "execution_count": 47,
   "id": "b95705c1",
   "metadata": {},
   "outputs": [],
   "source": [
    "#Evaluating the model\n",
    "model.compile(loss='binary_crossentropy', optimizer='adam', metrics=['accuracy'])"
   ]
  },
  {
   "cell_type": "code",
   "execution_count": null,
   "id": "80f69ea1",
   "metadata": {},
   "outputs": [
    {
     "name": "stdout",
     "output_type": "stream",
     "text": [
      "  275/21495 [..............................] - ETA: 11:42:08 - loss: -56.5430 - accuracy: 0.8523"
     ]
    }
   ],
   "source": [
    "from tensorflow.keras.callbacks import EarlyStopping\n",
    "model.fit(x_train_pad, y_train, validation_data=(x_test_pad, y_test), epochs=1)"
   ]
  },
  {
   "cell_type": "code",
   "execution_count": null,
   "id": "ea5e5065",
   "metadata": {},
   "outputs": [],
   "source": [
    "#predicting the sentiment of any text\n",
    "def predict_review(Text):\n",
    "  # preprocessing the given text \n",
    "  text_seq = tokenizer.texts_to_sequences(text)\n",
    "  text_pad = pad_sequences(text_seq, maxlen=T)\n",
    "\n",
    "  # predicting the class\n",
    "  predicted_overall = model.predict(text_pad).round()\n",
    "\n",
    "  if predicted_overall == 1.0:\n",
    "    return(print('It is a positive sentiment'))\n",
    "  else:\n",
    "    return(print('It is a negative sentiment'))\n",
    "\n",
    "text = ['i feel happy']\n",
    "predict_review(Text)"
   ]
  },
  {
   "cell_type": "code",
   "execution_count": null,
   "id": "93adc357",
   "metadata": {},
   "outputs": [],
   "source": []
  }
 ],
 "metadata": {
  "kernelspec": {
   "display_name": "Python 3 (ipykernel)",
   "language": "python",
   "name": "python3"
  },
  "language_info": {
   "codemirror_mode": {
    "name": "ipython",
    "version": 3
   },
   "file_extension": ".py",
   "mimetype": "text/x-python",
   "name": "python",
   "nbconvert_exporter": "python",
   "pygments_lexer": "ipython3",
   "version": "3.9.13"
  }
 },
 "nbformat": 4,
 "nbformat_minor": 5
}
